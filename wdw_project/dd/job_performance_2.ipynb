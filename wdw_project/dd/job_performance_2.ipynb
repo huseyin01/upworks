{
 "cells": [
  {
   "cell_type": "markdown",
   "metadata": {},
   "source": [
    "## Importing necessary libraries"
   ]
  },
  {
   "cell_type": "code",
   "execution_count": 147,
   "metadata": {},
   "outputs": [],
   "source": [
    "import pandas as pd\n",
    "import numpy as np\n",
    "import pandas_profiling\n",
    "import re\n",
    "\n",
    "import matplotlib.pyplot as plt\n",
    "import seaborn as sns\n",
    "\n",
    "from sklearn.metrics import mean_squared_error, r2_score\n",
    "from sklearn.model_selection import train_test_split, GridSearchCV, RandomizedSearchCV, cross_val_score\n",
    "from sklearn.dummy import DummyRegressor\n",
    "from sklearn.linear_model import LinearRegression\n",
    "from sklearn.ensemble import RandomForestRegressor"
   ]
  },
  {
   "cell_type": "code",
   "execution_count": 148,
   "metadata": {},
   "outputs": [
    {
     "name": "stderr",
     "output_type": "stream",
     "text": [
      "/Users/hy/anaconda3/lib/python3.7/site-packages/IPython/core/interactiveshell.py:3049: DtypeWarning: Columns (50,172,255,256,257,258,376) have mixed types. Specify dtype option on import or set low_memory=False.\n",
      "  interactivity=interactivity, compiler=compiler, result=result)\n"
     ]
    },
    {
     "data": {
      "text/html": [
       "<div>\n",
       "<style scoped>\n",
       "    .dataframe tbody tr th:only-of-type {\n",
       "        vertical-align: middle;\n",
       "    }\n",
       "\n",
       "    .dataframe tbody tr th {\n",
       "        vertical-align: top;\n",
       "    }\n",
       "\n",
       "    .dataframe thead th {\n",
       "        text-align: right;\n",
       "    }\n",
       "</style>\n",
       "<table border=\"1\" class=\"dataframe\">\n",
       "  <thead>\n",
       "    <tr style=\"text-align: right;\">\n",
       "      <th></th>\n",
       "      <th>cntryid</th>\n",
       "      <th>cntryid_e</th>\n",
       "      <th>age_r</th>\n",
       "      <th>gender_r</th>\n",
       "      <th>computerexperience</th>\n",
       "      <th>nativespeaker</th>\n",
       "      <th>edlevel3</th>\n",
       "      <th>monthlyincpr</th>\n",
       "      <th>yearlyincpr</th>\n",
       "      <th>lng_home</th>\n",
       "      <th>...</th>\n",
       "      <th>v85</th>\n",
       "      <th>v50</th>\n",
       "      <th>v89</th>\n",
       "      <th>v127</th>\n",
       "      <th>v239</th>\n",
       "      <th>v224</th>\n",
       "      <th>v71</th>\n",
       "      <th>v105</th>\n",
       "      <th>row</th>\n",
       "      <th>timestamp</th>\n",
       "    </tr>\n",
       "  </thead>\n",
       "  <tbody>\n",
       "    <tr>\n",
       "      <th>0</th>\n",
       "      <td>Greece</td>\n",
       "      <td>Greece</td>\n",
       "      <td>50.0</td>\n",
       "      <td>Male</td>\n",
       "      <td>Yes</td>\n",
       "      <td>Yes</td>\n",
       "      <td>High</td>\n",
       "      <td>75 to less than 90</td>\n",
       "      <td>NaN</td>\n",
       "      <td>ell</td>\n",
       "      <td>...</td>\n",
       "      <td>Strongly agree</td>\n",
       "      <td>Strongly agree</td>\n",
       "      <td>NaN</td>\n",
       "      <td>NaN</td>\n",
       "      <td>2359.0</td>\n",
       "      <td>9996.0</td>\n",
       "      <td>8549</td>\n",
       "      <td>9996.0</td>\n",
       "      <td>58807</td>\n",
       "      <td>1561457457-252</td>\n",
       "    </tr>\n",
       "    <tr>\n",
       "      <th>1</th>\n",
       "      <td>Japan</td>\n",
       "      <td>Japan</td>\n",
       "      <td>47.0</td>\n",
       "      <td>Male</td>\n",
       "      <td>Yes</td>\n",
       "      <td>Yes</td>\n",
       "      <td>High</td>\n",
       "      <td>90 or more</td>\n",
       "      <td>90 or more</td>\n",
       "      <td>jpn</td>\n",
       "      <td>...</td>\n",
       "      <td>Neither agree nor disagree</td>\n",
       "      <td>Neither agree nor disagree</td>\n",
       "      <td>NaN</td>\n",
       "      <td>NaN</td>\n",
       "      <td>2522.0</td>\n",
       "      <td>9996.0</td>\n",
       "      <td>6202</td>\n",
       "      <td>9996.0</td>\n",
       "      <td>168058</td>\n",
       "      <td>1561457457-252</td>\n",
       "    </tr>\n",
       "  </tbody>\n",
       "</table>\n",
       "<p>2 rows × 380 columns</p>\n",
       "</div>"
      ],
      "text/plain": [
       "  cntryid cntryid_e  age_r gender_r computerexperience nativespeaker edlevel3  \\\n",
       "0  Greece    Greece   50.0     Male                Yes           Yes     High   \n",
       "1   Japan     Japan   47.0     Male                Yes           Yes     High   \n",
       "\n",
       "         monthlyincpr yearlyincpr lng_home  ...                         v85  \\\n",
       "0  75 to less than 90         NaN      ell  ...              Strongly agree   \n",
       "1          90 or more  90 or more      jpn  ...  Neither agree nor disagree   \n",
       "\n",
       "                          v50  v89 v127    v239    v224   v71    v105     row  \\\n",
       "0              Strongly agree  NaN  NaN  2359.0  9996.0  8549  9996.0   58807   \n",
       "1  Neither agree nor disagree  NaN  NaN  2522.0  9996.0  6202  9996.0  168058   \n",
       "\n",
       "        timestamp  \n",
       "0  1561457457-252  \n",
       "1  1561457457-252  \n",
       "\n",
       "[2 rows x 380 columns]"
      ]
     },
     "execution_count": 148,
     "metadata": {},
     "output_type": "execute_result"
    }
   ],
   "source": [
    "df = pd.read_csv('client-trainingset-1561457457-252.csv')\n",
    "df.head(2)"
   ]
  },
  {
   "cell_type": "markdown",
   "metadata": {},
   "source": [
    "## Removing higly correlated, constant and unsupported features"
   ]
  },
  {
   "cell_type": "code",
   "execution_count": 149,
   "metadata": {},
   "outputs": [],
   "source": [
    "# There are 27 columns which are highly correlated with at least one other variables.\n",
    "# The list of correlated variables ('correlated_list_1')\n",
    "# And description for each element of \"correlated_list_1\" are listed below.\n",
    "\n",
    "correlated_list_1 = ['earnhrbonus', 'earnhrbonusppp', 'earnmthall', 'earnmthallppp', 'earnmthbonus',\n",
    "                     'earnmthbonusppp', 'earnmthppp', 'isco2l', 'v1', 'v100', 'v110', 'v145', 'v156',\n",
    "                    'v160', 'v163', 'v169', 'v231', 'v235', 'v283', 'v41', 'v45', 'v52', 'v63', 'v81',\n",
    "                     'v87', 'v97', 'yrsqual_t']\n",
    "\n",
    "# 01. earnhrbonus is highly correlated with earnhr (ρ = 0.9908)\n",
    "# 02. earnhrbonusppp is highly correlated with earnhrppp (ρ = 0.99704)\n",
    "# 03. earnmthall is highly correlated with earnmthbonus (ρ = 1)\n",
    "# 04. earnmthallppp is highly correlated with earnmthselfppp (ρ = 1)\n",
    "# 05. earnmthbonus is highly correlated with earnmth (ρ = 0.98944)\n",
    "# 06. earnmthbonusppp is highly correlated with earnmthallppp (ρ = 1)\n",
    "# 07. earnmthppp is highly correlated with earnhrbonusppp (ρ = 0.98068)\n",
    "# 08. isco2l is highly correlated with isco1l (ρ = 0.95437) \n",
    "# 09. v1 is highly correlated with v235 (ρ = 0.96425)\n",
    "# 10. v100 is highly correlated with v154 (ρ = 0.92684)\n",
    "# 11. v110 is highly correlated with v78 (ρ = 0.90633)\n",
    "# 12. v145 is highly correlated with nfehrs (ρ = 0.98147) \n",
    "# 13. v156 is highly correlated with v81 (ρ = 0.98304)\n",
    "# 14. v160 is highly correlated with v145 (ρ = 1) \n",
    "# 15. v163 is highly correlated with v145 (ρ = 0.93648)\n",
    "# 16. v169 is highly correlated with earnmthall (ρ = 0.98379) \n",
    "# 17. v231 is highly correlated with v202 (ρ = 1)\n",
    "# 18. v235 is highly correlated with v135 (ρ = 0.96043) \n",
    "# 19. v283 is highly correlated with nfehrs (ρ = 0.9994) \n",
    "# 20. v41 is highly correlated with nfehrs (ρ = 1) \n",
    "# 21. v45 is highly correlated with v129 (ρ = 0.90453) \n",
    "# 22. v52 is highly correlated with v110 (ρ = 0.96293)\n",
    "# 23. v63 is highly correlated with v100 (ρ = 1) \n",
    "# 24. v81 is highly correlated with v129 (ρ = 0.91191) \n",
    "# 25. v87 is highly correlated with v100 (ρ = 0.99779) \n",
    "# 26. v97 is highly correlated with v52 (ρ = 0.99996) \n",
    "# 27. yrsqual_t is highly correlated with yrsqual (ρ = 1)"
   ]
  },
  {
   "cell_type": "code",
   "execution_count": 150,
   "metadata": {},
   "outputs": [],
   "source": [
    "# There 2 variables with constant values\n",
    "# Since they have constant values they have no effect on predicting and therefore they should be dropped\n",
    "# The list of variables with constant values ('constant_list_1')\n",
    "# And description for each element of \"constant_list_1\" are listed below.\n",
    "\n",
    "constant_list_1 = ['timestamp', 'v262']\n",
    "\n",
    "# 1. timestamp has constant value 1561457457-252\n",
    "# 2. v262 has constant value"
   ]
  },
  {
   "cell_type": "code",
   "execution_count": 151,
   "metadata": {},
   "outputs": [],
   "source": [
    "# since 'ageg10lfs' is a transformation of 'age_r' and also age_r has %40 missing value, we will drop age_r\n",
    "# since the informations are very close and edcat8 has missing values, we will drop \"edcat7\" and \"edcat8\"\n",
    "# since \"cnt_brth\", \"cnt_h\", \"cntryid\" and \"cntryid_e\" have same information, \n",
    "# \"cnt_brth\", \"cnt_h\" and \"cntryid_e\" will be dropped with taking into consideration missing ratios.\n",
    "# since \"birthrgn\", \"ctryqual\" and \"ctrygn\" have almost identical information\n",
    "# \"birthrgn\" and \"ctryqual\" will be dropped with taking into consideration missing ratios.\n",
    "# since \"earnmthalldcl\", \"earnhrdcl\" and \"earnhrbonusdcl\" have almost identical information\n",
    "# \"earnhrdcl\" and \"earnhrbonusdcl\" will be dropped with taking into consideration missing ratios.\n",
    "# since \"nativespeaker\" and \"nativelang\" have almost identical information,\n",
    "# \"nativelang\" will be dropped with taking into consideration missing ratios.\n",
    "\n",
    "# list of features to drop:\n",
    "# age_r\n",
    "# edcat7\n",
    "# edcat8\n",
    "# cnt_brth\n",
    "# cnt_h\n",
    "# cntryid\n",
    "# cntryid_e\n",
    "# birthrgn\n",
    "# ctryqual\n",
    "# earnhrdcl\n",
    "# earnhrbonusdcl\n",
    "# nativelang\n",
    "\n",
    "correlated_list_2 = ['age_r', 'edcat7', 'edcat8', 'cnt_brth', 'cnt_h', 'cntryid', 'cntryid_e', 'birthrgn',\n",
    "                     'ctryqual', 'earnhrdcl', 'earnhrbonusdcl', 'nativelang']"
   ]
  },
  {
   "cell_type": "code",
   "execution_count": 152,
   "metadata": {},
   "outputs": [],
   "source": [
    "# There are also two columns with unsupported types:\n",
    "\n",
    "unsupported_list_1 = ['v71', 'isic2l']"
   ]
  },
  {
   "cell_type": "code",
   "execution_count": 153,
   "metadata": {},
   "outputs": [
    {
     "name": "stdout",
     "output_type": "stream",
     "text": [
      "<class 'pandas.core.frame.DataFrame'>\n",
      "RangeIndex: 20000 entries, 0 to 19999\n",
      "Columns: 337 entries, gender_r to row\n",
      "dtypes: float64(52), int64(4), object(281)\n",
      "memory usage: 51.4+ MB\n"
     ]
    }
   ],
   "source": [
    "# creating a new dataframe in order to keep original one just in case\n",
    "df2 = df.copy()\n",
    "\n",
    "# concatenating four lists to drop\n",
    "drop_list = correlated_list_1 + constant_list_1 + unsupported_list_1 + correlated_list_2\n",
    "\n",
    "# dropping 43 variables from originial set\n",
    "df2 = df2.drop(columns = drop_list, axis=1)\n",
    "\n",
    "# checking summary info\n",
    "df2.info()"
   ]
  },
  {
   "cell_type": "markdown",
   "metadata": {},
   "source": [
    "## Cleaning, Filling and Transforming features"
   ]
  },
  {
   "cell_type": "code",
   "execution_count": 154,
   "metadata": {},
   "outputs": [
    {
     "name": "stdout",
     "output_type": "stream",
     "text": [
      "Number of categorical columns: 281\n",
      "Number of numerical columns: 56\n"
     ]
    }
   ],
   "source": [
    "# creating 2 diffrent dataframes as numerical and categorical\n",
    "\n",
    "categorical_clms = df2.select_dtypes(include=['O']).columns\n",
    "print(\"Number of categorical columns: {}\".format(len(categorical_clms)))\n",
    "\n",
    "numerical_clms = df2.select_dtypes(include=['int64', 'float64']).columns\n",
    "print(\"Number of numerical columns: {}\".format(len(numerical_clms)))\n",
    "\n",
    "df_cat = pd.DataFrame(df2, columns=categorical_clms)\n",
    "df_num = pd.DataFrame(df2, columns=numerical_clms)"
   ]
  },
  {
   "cell_type": "markdown",
   "metadata": {},
   "source": [
    "### Numerical features"
   ]
  },
  {
   "cell_type": "code",
   "execution_count": 155,
   "metadata": {},
   "outputs": [
    {
     "name": "stderr",
     "output_type": "stream",
     "text": [
      "/Users/hy/anaconda3/lib/python3.7/site-packages/numpy/lib/function_base.py:3826: RuntimeWarning: Invalid value encountered in percentile\n",
      "  interpolation=interpolation)\n",
      "/Users/hy/anaconda3/lib/python3.7/site-packages/ipykernel_launcher.py:10: SettingWithCopyWarning: \n",
      "A value is trying to be set on a copy of a slice from a DataFrame\n",
      "\n",
      "See the caveats in the documentation: http://pandas.pydata.org/pandas-docs/stable/indexing.html#indexing-view-versus-copy\n",
      "  # Remove the CWD from sys.path while we load stuff.\n",
      "/Users/hy/anaconda3/lib/python3.7/site-packages/ipykernel_launcher.py:11: SettingWithCopyWarning: \n",
      "A value is trying to be set on a copy of a slice from a DataFrame\n",
      "\n",
      "See the caveats in the documentation: http://pandas.pydata.org/pandas-docs/stable/indexing.html#indexing-view-versus-copy\n",
      "  # This is added back by InteractiveShellApp.init_path()\n"
     ]
    }
   ],
   "source": [
    "#dropping target variable\n",
    "df_num2 = df_num.drop('job_performance', axis=1)\n",
    "\n",
    "# replacing outliers with median\n",
    "for feature in df_num2.keys():\n",
    "    step=1.5*((np.percentile(df_num2[feature], q=75))-(np.percentile(df_num2[feature], q=25)))\n",
    "    lower_bound=(np.percentile(df_num2[feature], q=25))-step\n",
    "    upper_bound=(np.percentile(df_num2[feature], q=75))+step\n",
    "    median = round(df_num2[feature].median())\n",
    "    df_num2[feature][df_num2[feature]<lower_bound] = median\n",
    "    df_num2[feature][df_num2[feature]>upper_bound] = median\n",
    "\n",
    "# filling NaN values with median (because some variables are highly skewed and also some are related with years)\n",
    "df_num2 = df_num2.fillna(0)\n",
    "\n",
    "for col in df_num2.columns:\n",
    "    df_num2[col]=df_num2[col].replace(0,round(df_num2[col].median()))\n",
    "\n",
    "# concatinating target variable again\n",
    "df_num2 = pd.concat([df_num2, df2['job_performance']], axis=1, sort=False)"
   ]
  },
  {
   "cell_type": "markdown",
   "metadata": {},
   "source": [
    "### Categorical features"
   ]
  },
  {
   "cell_type": "code",
   "execution_count": 156,
   "metadata": {},
   "outputs": [
    {
     "data": {
      "text/html": [
       "<div>\n",
       "<style scoped>\n",
       "    .dataframe tbody tr th:only-of-type {\n",
       "        vertical-align: middle;\n",
       "    }\n",
       "\n",
       "    .dataframe tbody tr th {\n",
       "        vertical-align: top;\n",
       "    }\n",
       "\n",
       "    .dataframe thead th {\n",
       "        text-align: right;\n",
       "    }\n",
       "</style>\n",
       "<table border=\"1\" class=\"dataframe\">\n",
       "  <thead>\n",
       "    <tr style=\"text-align: right;\">\n",
       "      <th></th>\n",
       "      <th>yrsqual</th>\n",
       "      <th>yrsget</th>\n",
       "      <th>imyrs</th>\n",
       "      <th>leavedu</th>\n",
       "      <th>nfehrsnjr</th>\n",
       "      <th>nfehrsjr</th>\n",
       "      <th>nfehrs</th>\n",
       "      <th>isco1c</th>\n",
       "      <th>isco2c</th>\n",
       "      <th>isco1l</th>\n",
       "      <th>...</th>\n",
       "      <th>v191</th>\n",
       "      <th>v170</th>\n",
       "      <th>v65</th>\n",
       "      <th>v57</th>\n",
       "      <th>v177</th>\n",
       "      <th>v69</th>\n",
       "      <th>v85</th>\n",
       "      <th>v50</th>\n",
       "      <th>v89</th>\n",
       "      <th>v127</th>\n",
       "    </tr>\n",
       "  </thead>\n",
       "  <tbody>\n",
       "    <tr>\n",
       "      <th>0</th>\n",
       "      <td>17.0</td>\n",
       "      <td>14.0</td>\n",
       "      <td>0.0</td>\n",
       "      <td>46.0</td>\n",
       "      <td>0.0</td>\n",
       "      <td>0.0</td>\n",
       "      <td>15.0</td>\n",
       "      <td>2</td>\n",
       "      <td>23</td>\n",
       "      <td>9996</td>\n",
       "      <td>...</td>\n",
       "      <td>To a very high extent</td>\n",
       "      <td>To a very high extent</td>\n",
       "      <td>To a very high extent</td>\n",
       "      <td>To a very high extent</td>\n",
       "      <td>Never</td>\n",
       "      <td>Disagree</td>\n",
       "      <td>Strongly agree</td>\n",
       "      <td>Strongly agree</td>\n",
       "      <td>unknown</td>\n",
       "      <td>unknown</td>\n",
       "    </tr>\n",
       "    <tr>\n",
       "      <th>1</th>\n",
       "      <td>16.0</td>\n",
       "      <td>16.0</td>\n",
       "      <td>0.0</td>\n",
       "      <td>22.0</td>\n",
       "      <td>0.0</td>\n",
       "      <td>24.0</td>\n",
       "      <td>24.0</td>\n",
       "      <td>2</td>\n",
       "      <td>25</td>\n",
       "      <td>9996</td>\n",
       "      <td>...</td>\n",
       "      <td>To some extent</td>\n",
       "      <td>To a high extent</td>\n",
       "      <td>Very little</td>\n",
       "      <td>To a high extent</td>\n",
       "      <td>Never</td>\n",
       "      <td>Agree</td>\n",
       "      <td>Neither agree nor disagree</td>\n",
       "      <td>Neither agree nor disagree</td>\n",
       "      <td>unknown</td>\n",
       "      <td>unknown</td>\n",
       "    </tr>\n",
       "  </tbody>\n",
       "</table>\n",
       "<p>2 rows × 337 columns</p>\n",
       "</div>"
      ],
      "text/plain": [
       "   yrsqual  yrsget  imyrs  leavedu  nfehrsnjr  nfehrsjr  nfehrs  isco1c  \\\n",
       "0     17.0    14.0    0.0     46.0        0.0       0.0    15.0       2   \n",
       "1     16.0    16.0    0.0     22.0        0.0      24.0    24.0       2   \n",
       "\n",
       "   isco2c  isco1l  ...                   v191                   v170  \\\n",
       "0      23    9996  ...  To a very high extent  To a very high extent   \n",
       "1      25    9996  ...         To some extent       To a high extent   \n",
       "\n",
       "                     v65                    v57   v177       v69  \\\n",
       "0  To a very high extent  To a very high extent  Never  Disagree   \n",
       "1            Very little       To a high extent  Never     Agree   \n",
       "\n",
       "                          v85                         v50      v89     v127  \n",
       "0              Strongly agree              Strongly agree  unknown  unknown  \n",
       "1  Neither agree nor disagree  Neither agree nor disagree  unknown  unknown  \n",
       "\n",
       "[2 rows x 337 columns]"
      ]
     },
     "execution_count": 156,
     "metadata": {},
     "output_type": "execute_result"
    }
   ],
   "source": [
    "# filling categorical missing with value of \"unknown\"\n",
    "df_cat2 = df_cat.fillna('unknown')\n",
    "\n",
    "# concatenating both dataframes again\n",
    "df3 = pd.concat([df_num2, df_cat2], axis=1, sort=False)\n",
    "\n",
    "# now we have a %100 filled dataframe\n",
    "df3.head(2)"
   ]
  },
  {
   "cell_type": "markdown",
   "metadata": {},
   "source": [
    "### Encoding categorical features"
   ]
  },
  {
   "cell_type": "code",
   "execution_count": 157,
   "metadata": {},
   "outputs": [],
   "source": [
    "df4 = pd.get_dummies(df3, prefix_sep='_', drop_first=True)"
   ]
  },
  {
   "cell_type": "markdown",
   "metadata": {},
   "source": [
    "## Modeling"
   ]
  },
  {
   "cell_type": "markdown",
   "metadata": {},
   "source": [
    "### Splitting data"
   ]
  },
  {
   "cell_type": "code",
   "execution_count": 158,
   "metadata": {},
   "outputs": [],
   "source": [
    "from sklearn.model_selection import train_test_split, StratifiedKFold, GridSearchCV, cross_val_score\n",
    "X = df4.drop(['job_performance'], axis=1)\n",
    "y = df4['job_performance']\n",
    "\n",
    "X_train, X_test, y_train, y_test = train_test_split(X, y, test_size=0.3, random_state=0)"
   ]
  },
  {
   "cell_type": "markdown",
   "metadata": {},
   "source": [
    "\n",
    "### Instantiating and fitting the base model"
   ]
  },
  {
   "cell_type": "code",
   "execution_count": 159,
   "metadata": {},
   "outputs": [
    {
     "name": "stderr",
     "output_type": "stream",
     "text": [
      "/Users/hy/anaconda3/lib/python3.7/site-packages/sklearn/ensemble/forest.py:246: FutureWarning: The default value of n_estimators will change from 10 in version 0.20 to 100 in 0.22.\n",
      "  \"10 in version 0.20 to 100 in 0.22.\", FutureWarning)\n"
     ]
    },
    {
     "data": {
      "text/html": [
       "<div>\n",
       "<style scoped>\n",
       "    .dataframe tbody tr th:only-of-type {\n",
       "        vertical-align: middle;\n",
       "    }\n",
       "\n",
       "    .dataframe tbody tr th {\n",
       "        vertical-align: top;\n",
       "    }\n",
       "\n",
       "    .dataframe thead th {\n",
       "        text-align: right;\n",
       "    }\n",
       "</style>\n",
       "<table border=\"1\" class=\"dataframe\">\n",
       "  <thead>\n",
       "    <tr style=\"text-align: right;\">\n",
       "      <th></th>\n",
       "      <th>importance</th>\n",
       "    </tr>\n",
       "  </thead>\n",
       "  <tbody>\n",
       "    <tr>\n",
       "      <th>v292_Every day</th>\n",
       "      <td>0.085538</td>\n",
       "    </tr>\n",
       "    <tr>\n",
       "      <th>yrsqual</th>\n",
       "      <td>0.072562</td>\n",
       "    </tr>\n",
       "    <tr>\n",
       "      <th>icthome</th>\n",
       "      <td>0.024659</td>\n",
       "    </tr>\n",
       "    <tr>\n",
       "      <th>gender_r_Male</th>\n",
       "      <td>0.022551</td>\n",
       "    </tr>\n",
       "    <tr>\n",
       "      <th>v31_unknown</th>\n",
       "      <td>0.018130</td>\n",
       "    </tr>\n",
       "  </tbody>\n",
       "</table>\n",
       "</div>"
      ],
      "text/plain": [
       "                importance\n",
       "v292_Every day    0.085538\n",
       "yrsqual           0.072562\n",
       "icthome           0.024659\n",
       "gender_r_Male     0.022551\n",
       "v31_unknown       0.018130"
      ]
     },
     "execution_count": 159,
     "metadata": {},
     "output_type": "execute_result"
    }
   ],
   "source": [
    "rf = RandomForestRegressor(random_state = 0)\n",
    "rf.fit(X_train, y_train)\n",
    "df_imp = pd.DataFrame(rf.feature_importances_, \n",
    "             index = X_train.columns, columns = ['importance']).sort_values('importance', ascending=False)\n",
    "\n",
    "df_imp.head()"
   ]
  },
  {
   "cell_type": "markdown",
   "metadata": {},
   "source": [
    "### Evaluation_1"
   ]
  },
  {
   "cell_type": "code",
   "execution_count": 160,
   "metadata": {},
   "outputs": [
    {
     "name": "stdout",
     "output_type": "stream",
     "text": [
      "MSE:\n",
      "39839.49162639608\n",
      "\n",
      "r2_score:\n",
      "0.7832947224660144\n"
     ]
    }
   ],
   "source": [
    "y_pred = rf.predict(X_test)\n",
    "\n",
    "# Evaluation metrics\n",
    "mse = mean_squared_error(y_test, y_pred)\n",
    "r2 = r2_score(y_test, y_pred)\n",
    "print('MSE:\\n{}\\n\\nr2_score:\\n{}'.format(mse, r2))"
   ]
  },
  {
   "cell_type": "markdown",
   "metadata": {},
   "source": [
    "### Feature importance"
   ]
  },
  {
   "cell_type": "code",
   "execution_count": 161,
   "metadata": {},
   "outputs": [
    {
     "data": {
      "text/plain": [
       "<matplotlib.axes._subplots.AxesSubplot at 0x1a1ea2c518>"
      ]
     },
     "execution_count": 161,
     "metadata": {},
     "output_type": "execute_result"
    },
    {
     "data": {
      "image/png": "[encoded data removed]",
      "text/plain": [
       "<Figure size 1152x720 with 1 Axes>"
      ]
     },
     "metadata": {
      "needs_background": "light"
     },
     "output_type": "display_data"
    }
   ],
   "source": [
    "plt.figure(figsize=(16, 10))\n",
    "feat_importances = pd.Series(rf.feature_importances_, index=X_train.columns)\n",
    "feat_importances.nlargest(205).plot(kind='barh')"
   ]
  },
  {
   "cell_type": "markdown",
   "metadata": {},
   "source": [
    "### Figuring out important unique features"
   ]
  },
  {
   "cell_type": "code",
   "execution_count": 162,
   "metadata": {},
   "outputs": [
    {
     "data": {
      "text/plain": [
       "1671"
      ]
     },
     "execution_count": 162,
     "metadata": {},
     "output_type": "execute_result"
    }
   ],
   "source": [
    "# total number of variables with dummies\n",
    "len(df_imp)"
   ]
  },
  {
   "cell_type": "code",
   "execution_count": 163,
   "metadata": {},
   "outputs": [
    {
     "data": {
      "text/html": [
       "<div>\n",
       "<style scoped>\n",
       "    .dataframe tbody tr th:only-of-type {\n",
       "        vertical-align: middle;\n",
       "    }\n",
       "\n",
       "    .dataframe tbody tr th {\n",
       "        vertical-align: top;\n",
       "    }\n",
       "\n",
       "    .dataframe thead th {\n",
       "        text-align: right;\n",
       "    }\n",
       "</style>\n",
       "<table border=\"1\" class=\"dataframe\">\n",
       "  <thead>\n",
       "    <tr style=\"text-align: right;\">\n",
       "      <th></th>\n",
       "      <th>total_var</th>\n",
       "    </tr>\n",
       "  </thead>\n",
       "  <tbody>\n",
       "    <tr>\n",
       "      <th>733</th>\n",
       "      <td>0.980045</td>\n",
       "    </tr>\n",
       "  </tbody>\n",
       "</table>\n",
       "</div>"
      ],
      "text/plain": [
       "     total_var\n",
       "733   0.980045"
      ]
     },
     "execution_count": 163,
     "metadata": {},
     "output_type": "execute_result"
    }
   ],
   "source": [
    "# Since we have dummy variables we need to figure out unique important features\n",
    "\n",
    "# creating new dataframe which show cumilative importance of all variables including dummies\n",
    "df_cumus = pd.DataFrame({'total_var':np.cumsum(df_imp['importance'].values)})\n",
    "\n",
    "# the number of variables which are able to explain 99% of variance\n",
    "df_cumus.loc[df_cumus['total_var']>0.98].head(1)"
   ]
  },
  {
   "cell_type": "markdown",
   "metadata": {},
   "source": [
    "#### Function for getting root names of features"
   ]
  },
  {
   "cell_type": "code",
   "execution_count": 164,
   "metadata": {},
   "outputs": [],
   "source": [
    "def underscore_split(list_):\n",
    "    splitted_features = []\n",
    "    \n",
    "    for element in list_:\n",
    "        triple = re.match(r'[\\w+]+_[\\w+]+_[\\w+]+_[\\w+]', element)\n",
    "        double = re.match(r'[\\w+]+_[\\w+]+_[\\w+]', element)\n",
    "        single = re.match(r'[\\w+]+_[\\w+]', element)\n",
    "        none = re.match(r'[\\w+]', element)\n",
    "    \n",
    "        if triple:\n",
    "            element = \"_\".join(element.split(\"_\", 3)[:3])\n",
    "        elif double:\n",
    "            element = \"_\".join(element.split(\"_\", 2)[:2])\n",
    "        elif single:\n",
    "            element = element.split(\"_\")[0]\n",
    "        else:\n",
    "            element = element\n",
    "    \n",
    "        splitted_features.append(element)\n",
    "    \n",
    "    return splitted_features"
   ]
  },
  {
   "cell_type": "markdown",
   "metadata": {},
   "source": [
    "#### Number of unique features for 95% explained variance"
   ]
  },
  {
   "cell_type": "code",
   "execution_count": null,
   "metadata": {},
   "outputs": [],
   "source": []
  },
  {
   "cell_type": "code",
   "execution_count": 165,
   "metadata": {},
   "outputs": [
    {
     "data": {
      "text/plain": [
       "258"
      ]
     },
     "execution_count": 165,
     "metadata": {},
     "output_type": "execute_result"
    }
   ],
   "source": [
    "# we know the number of all features with dummies for 95% variance. 575\n",
    "# computing number of unique features with \"underscore_split\" function\n",
    "\n",
    "imp95_features = list(df_imp[:733].index.values)\n",
    "imp95_features = list(set(underscore_split(imp95_features)))\n",
    "len(imp95_features)\n"
   ]
  },
  {
   "cell_type": "markdown",
   "metadata": {},
   "source": [
    "### Evaluation-2: with new feature set"
   ]
  },
  {
   "cell_type": "code",
   "execution_count": 166,
   "metadata": {},
   "outputs": [
    {
     "data": {
      "text/plain": [
       "(20000, 259)"
      ]
     },
     "execution_count": 166,
     "metadata": {},
     "output_type": "execute_result"
    }
   ],
   "source": [
    "# creating a new dataframe with detected important features\n",
    "df5 = pd.concat([df3[imp95_features], df2['job_performance']], axis=1, sort=False)\n",
    "df5.shape"
   ]
  },
  {
   "cell_type": "code",
   "execution_count": 167,
   "metadata": {},
   "outputs": [
    {
     "name": "stderr",
     "output_type": "stream",
     "text": [
      "/Users/hy/anaconda3/lib/python3.7/site-packages/sklearn/ensemble/forest.py:246: FutureWarning: The default value of n_estimators will change from 10 in version 0.20 to 100 in 0.22.\n",
      "  \"10 in version 0.20 to 100 in 0.22.\", FutureWarning)\n"
     ]
    },
    {
     "name": "stdout",
     "output_type": "stream",
     "text": [
      "MSE:\n",
      "41301.355255004266\n",
      "\n",
      "r2_score:\n",
      "0.7753429753321609\n"
     ]
    }
   ],
   "source": [
    "# Encoding\n",
    "df5 = pd.get_dummies(df5, prefix_sep='_', drop_first=True)\n",
    "\n",
    "# Splitting\n",
    "from sklearn.model_selection import train_test_split, StratifiedKFold, GridSearchCV, cross_val_score\n",
    "X = df5.drop(['job_performance'], axis=1)\n",
    "y = df5['job_performance']\n",
    "\n",
    "X_train, X_test, y_train, y_test = train_test_split(X, y, test_size=0.3, random_state=0)\n",
    "\n",
    "# Modeling\n",
    "rf = RandomForestRegressor()\n",
    "rf.fit(X_train, y_train)\n",
    "df_imp_2 = pd.DataFrame(rf.feature_importances_, \n",
    "             index = X_train.columns, columns = ['importance']).sort_values('importance', ascending=False)\n",
    "\n",
    "# Evaluation\n",
    "y_pred = rf.predict(X_test)\n",
    "\n",
    "# Evaluation metrics\n",
    "mse = mean_squared_error(y_test, y_pred)\n",
    "r2 = r2_score(y_test, y_pred)\n",
    "print('MSE:\\n{}\\n\\nr2_score:\\n{}'.format(mse, r2))"
   ]
  },
  {
   "cell_type": "markdown",
   "metadata": {},
   "source": [
    "# Improvement is \"+1669\" (MSE)"
   ]
  },
  {
   "cell_type": "markdown",
   "metadata": {},
   "source": [
    "### Figuring out the weakest features of new set"
   ]
  },
  {
   "cell_type": "code",
   "execution_count": 62,
   "metadata": {},
   "outputs": [
    {
     "data": {
      "text/plain": [
       "1294"
      ]
     },
     "execution_count": 62,
     "metadata": {},
     "output_type": "execute_result"
    }
   ],
   "source": [
    "len(df_imp_2)"
   ]
  },
  {
   "cell_type": "code",
   "execution_count": 118,
   "metadata": {},
   "outputs": [
    {
     "data": {
      "text/html": [
       "<div>\n",
       "<style scoped>\n",
       "    .dataframe tbody tr th:only-of-type {\n",
       "        vertical-align: middle;\n",
       "    }\n",
       "\n",
       "    .dataframe tbody tr th {\n",
       "        vertical-align: top;\n",
       "    }\n",
       "\n",
       "    .dataframe thead th {\n",
       "        text-align: right;\n",
       "    }\n",
       "</style>\n",
       "<table border=\"1\" class=\"dataframe\">\n",
       "  <thead>\n",
       "    <tr style=\"text-align: right;\">\n",
       "      <th></th>\n",
       "      <th>total_var</th>\n",
       "    </tr>\n",
       "  </thead>\n",
       "  <tbody>\n",
       "    <tr>\n",
       "      <th>581</th>\n",
       "      <td>0.960062</td>\n",
       "    </tr>\n",
       "  </tbody>\n",
       "</table>\n",
       "</div>"
      ],
      "text/plain": [
       "     total_var\n",
       "581   0.960062"
      ]
     },
     "execution_count": 118,
     "metadata": {},
     "output_type": "execute_result"
    }
   ],
   "source": [
    "# Since we have dummy variables we need to figure out unique important features\n",
    "\n",
    "# creating new dataframe which show cumilative importance of all variables including dummies\n",
    "df_cumus_2 = pd.DataFrame({'total_var':np.cumsum(df_imp_2['importance'].values)})\n",
    "\n",
    "# the number of variables which are able to explain 99% of variance\n",
    "df_cumus_2.loc[df_cumus_2['total_var']>0.96].head(1)"
   ]
  },
  {
   "cell_type": "code",
   "execution_count": 119,
   "metadata": {},
   "outputs": [
    {
     "data": {
      "text/plain": [
       "221"
      ]
     },
     "execution_count": 119,
     "metadata": {},
     "output_type": "execute_result"
    }
   ],
   "source": [
    "# we know the number of all features with dummies for 95% variance. 546\n",
    "# computing number of unique features with \"underscore_split\" function\n",
    "\n",
    "imp95_features_2 = list(df_imp_2[:581].index.values)\n",
    "imp95_features_2 = list(set(underscore_split(imp95_features_2)))\n",
    "len(imp95_features_2)"
   ]
  },
  {
   "cell_type": "code",
   "execution_count": 120,
   "metadata": {},
   "outputs": [
    {
     "data": {
      "text/plain": [
       "(20000, 222)"
      ]
     },
     "execution_count": 120,
     "metadata": {},
     "output_type": "execute_result"
    }
   ],
   "source": [
    "# creating a new dataframe with detected important features\n",
    "df6 = pd.concat([df3[imp95_features_2], df2['job_performance']], axis=1, sort=False)\n",
    "df6.shape"
   ]
  },
  {
   "cell_type": "code",
   "execution_count": 121,
   "metadata": {},
   "outputs": [
    {
     "name": "stderr",
     "output_type": "stream",
     "text": [
      "/Users/hy/anaconda3/lib/python3.7/site-packages/sklearn/ensemble/forest.py:246: FutureWarning: The default value of n_estimators will change from 10 in version 0.20 to 100 in 0.22.\n",
      "  \"10 in version 0.20 to 100 in 0.22.\", FutureWarning)\n"
     ]
    },
    {
     "name": "stdout",
     "output_type": "stream",
     "text": [
      "MSE:\n",
      "39716.17427661909\n",
      "\n",
      "r2_score:\n",
      "0.7839655021225116\n"
     ]
    }
   ],
   "source": [
    "# Encoding\n",
    "df6 = pd.get_dummies(df6, prefix_sep='_', drop_first=True)\n",
    "\n",
    "# Splitting\n",
    "X = df6.drop(['job_performance'], axis=1)\n",
    "y = df6['job_performance']\n",
    "\n",
    "X_train, X_test, y_train, y_test = train_test_split(X, y, test_size=0.3, random_state=0)\n",
    "\n",
    "# Modeling\n",
    "rf = RandomForestRegressor()\n",
    "rf.fit(X_train, y_train)\n",
    "df_imp_3 = pd.DataFrame(rf.feature_importances_, \n",
    "             index = X_train.columns, columns = ['importance']).sort_values('importance', ascending=False)\n",
    "\n",
    "# Evaluation\n",
    "y_pred = rf.predict(X_test)\n",
    "\n",
    "# Evaluation metrics\n",
    "mse = mean_squared_error(y_test, y_pred)\n",
    "r2 = r2_score(y_test, y_pred)\n",
    "print('MSE:\\n{}\\n\\nr2_score:\\n{}'.format(mse, r2))"
   ]
  },
  {
   "cell_type": "code",
   "execution_count": null,
   "metadata": {},
   "outputs": [],
   "source": []
  },
  {
   "cell_type": "code",
   "execution_count": null,
   "metadata": {},
   "outputs": [],
   "source": []
  },
  {
   "cell_type": "code",
   "execution_count": 75,
   "metadata": {
    "collapsed": true
   },
   "outputs": [
    {
     "name": "stdout",
     "output_type": "stream",
     "text": [
      "                importance\n",
      "features                  \n",
      "v95               0.000115\n",
      "v228              0.000118\n",
      "v16               0.000143\n",
      "v46               0.000214\n",
      "fnfe12jr          0.000258\n",
      "edlevel3          0.000298\n",
      "v12               0.000312\n",
      "earnmthselfppp    0.000370\n",
      "nfe12jr           0.000393\n",
      "v122              0.000425\n",
      "v194              0.000439\n",
      "faet12            0.000456\n",
      "v32               0.000471\n",
      "v247              0.000487\n",
      "fnfaet12njr       0.000492\n",
      "v72               0.000526\n",
      "v229              0.000547\n",
      "v134              0.000562\n",
      "v206              0.000595\n",
      "v285              0.000598\n",
      "imyrs             0.000628\n",
      "v99               0.000660\n",
      "fnfaet12          0.000664\n",
      "v227              0.000682\n",
      "v22               0.000694\n",
      "v138              0.000710\n",
      "v251              0.000732\n",
      "v225              0.000738\n",
      "v90               0.000739\n",
      "v142              0.000766\n",
      "...                    ...\n",
      "ageg5lfs          0.005139\n",
      "v23               0.005219\n",
      "v139              0.005495\n",
      "v135              0.005688\n",
      "isic2c            0.005778\n",
      "lng_home          0.005797\n",
      "v171              0.005803\n",
      "v272              0.005873\n",
      "v131              0.006370\n",
      "v15               0.006414\n",
      "yearlyincpr       0.006606\n",
      "isco2c            0.006741\n",
      "v111              0.006784\n",
      "edcat6            0.006874\n",
      "isco1c            0.006920\n",
      "v59               0.007113\n",
      "v175              0.007471\n",
      "lng_bq            0.007475\n",
      "earnhrppp         0.007624\n",
      "v50               0.007682\n",
      "v14               0.007915\n",
      "learnatwork       0.007960\n",
      "planning          0.007991\n",
      "v239              0.007999\n",
      "v19               0.008134\n",
      "v284              0.008204\n",
      "isic1c            0.008489\n",
      "lng_ci            0.008621\n",
      "influence         0.009167\n",
      "ctryrgn           0.009549\n",
      "\n",
      "[210 rows x 1 columns]\n"
     ]
    }
   ],
   "source": [
    "# figuring out culilative importance of new feature set\n",
    "\n",
    "# extracting features names from index\n",
    "i_feature = list(df_imp_2.index.values)\n",
    "# reducing to their root name\n",
    "i_feature = underscore_split(i_feature)\n",
    "# creating new dataframe of splitted features\n",
    "df_i = pd.DataFrame(i_feature)\n",
    "# concatinating above dataframe as a new feature to the df_imp_2\n",
    "df_imp_2['features'] = pd.Series(i_feature, index=df_imp_2.index)\n",
    "# grouping by features in order to get their total sum of contributions\n",
    "set2_cums = df_imp_2.groupby(['features']).agg({'importance': 'sum'})\n",
    "# sorting by sums\n",
    "set2_cums_sorted = set2_cums.sort_values('importance', ascending=True)\n",
    "\n",
    "print(set2_cums_sorted[:210])"
   ]
  },
  {
   "cell_type": "code",
   "execution_count": 76,
   "metadata": {},
   "outputs": [
    {
     "name": "stdout",
     "output_type": "stream",
     "text": [
      "                importance\n",
      "features                  \n",
      "yrsqual           0.081057\n",
      "v292              0.062727\n",
      "icthome           0.032012\n",
      "v31               0.031904\n",
      "gender_r          0.019711\n",
      "writwork          0.016900\n",
      "v7                0.016351\n",
      "writhome          0.015734\n",
      "reg_tl2           0.015559\n",
      "readhome          0.015430\n",
      "v271              0.014462\n",
      "v149              0.012167\n",
      "readwork          0.012027\n",
      "readytolearn      0.012008\n",
      "v103              0.011197\n",
      "ictwork           0.010992\n",
      "taskdisc          0.010917\n",
      "monthlyincpr      0.010320\n",
      "row               0.009970\n",
      "ctryrgn           0.009549\n",
      "influence         0.009167\n",
      "lng_ci            0.008621\n",
      "isic1c            0.008489\n",
      "v284              0.008204\n",
      "v19               0.008134\n",
      "v239              0.007999\n",
      "planning          0.007991\n",
      "learnatwork       0.007960\n",
      "v14               0.007915\n",
      "v50               0.007682\n",
      "...                    ...\n",
      "v142              0.000766\n",
      "v90               0.000739\n",
      "v225              0.000738\n",
      "v251              0.000732\n",
      "v138              0.000710\n",
      "v22               0.000694\n",
      "v227              0.000682\n",
      "fnfaet12          0.000664\n",
      "v99               0.000660\n",
      "imyrs             0.000628\n",
      "v285              0.000598\n",
      "v206              0.000595\n",
      "v134              0.000562\n",
      "v229              0.000547\n",
      "v72               0.000526\n",
      "fnfaet12njr       0.000492\n",
      "v247              0.000487\n",
      "v32               0.000471\n",
      "faet12            0.000456\n",
      "v194              0.000439\n",
      "v122              0.000425\n",
      "nfe12jr           0.000393\n",
      "earnmthselfppp    0.000370\n",
      "v12               0.000312\n",
      "edlevel3          0.000298\n",
      "fnfe12jr          0.000258\n",
      "v46               0.000214\n",
      "v16               0.000143\n",
      "v228              0.000118\n",
      "v95               0.000115\n",
      "\n",
      "[229 rows x 1 columns]\n"
     ]
    }
   ],
   "source": [
    "#set2_cums_sorted = set2_cums.sort_values('importance', ascending=False)\n",
    "\n",
    "print(set2_cums_sorted[::-1])"
   ]
  },
  {
   "cell_type": "code",
   "execution_count": null,
   "metadata": {},
   "outputs": [],
   "source": [
    "grouping by the feature names according to their root name"
   ]
  }
 ],
 "metadata": {
  "kernelspec": {
   "display_name": "Python 3",
   "language": "python",
   "name": "python3"
  },
  "language_info": {
   "codemirror_mode": {
    "name": "ipython",
    "version": 3
   },
   "file_extension": ".py",
   "mimetype": "text/x-python",
   "name": "python",
   "nbconvert_exporter": "python",
   "pygments_lexer": "ipython3",
   "version": "3.7.3"
  }
 },
 "nbformat": 4,
 "nbformat_minor": 2
}
