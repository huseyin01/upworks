{
 "cells": [
  {
   "cell_type": "code",
   "execution_count": 3,
   "metadata": {},
   "outputs": [],
   "source": [
    "import pandas as pd\n",
    "import numpy as np\n",
    "import pandas_profiling\n",
    "import re\n",
    "\n",
    "import matplotlib.pyplot as plt\n",
    "import seaborn as sns\n",
    "\n",
    "from sklearn.metrics import mean_squared_error, r2_score\n",
    "from sklearn.model_selection import train_test_split, GridSearchCV, RandomizedSearchCV, cross_val_score\n",
    "from sklearn.dummy import DummyRegressor\n",
    "from sklearn.linear_model import LinearRegression\n",
    "from sklearn.ensemble import RandomForestRegressor\n",
    "import xgboost as xgb\n",
    "\n",
    "import warnings\n",
    "warnings.filterwarnings('ignore')"
   ]
  },
  {
   "cell_type": "code",
   "execution_count": 4,
   "metadata": {},
   "outputs": [],
   "source": [
    "df = pd.read_csv('client_training_cleaned_1.csv')\n",
    "df = df.drop(['Unnamed: 0'], axis=1)"
   ]
  },
  {
   "cell_type": "code",
   "execution_count": 5,
   "metadata": {},
   "outputs": [],
   "source": [
    "df2 = pd.get_dummies(df, prefix_sep='_', drop_first=True)\n",
    "\n",
    "X = df2.drop(['job_performance'], axis=1)\n",
    "y = df2['job_performance']\n",
    "\n",
    "X_train, X_test, y_train, y_test = train_test_split(X, y, test_size=0.3, random_state=0)"
   ]
  },
  {
   "cell_type": "code",
   "execution_count": null,
   "metadata": {},
   "outputs": [],
   "source": [
    "xg = xgb.XGBRegressor(n_estimators=100, max_depth=3)\n",
    "xg.fit(X_train, y_train)\n",
    "\n",
    "y_pred_xg = xg.predict(X_test)\n",
    "\n",
    "# Evaluation metrics\n",
    "mse_xg = mean_squared_error(y_test, y_pred_xg)\n",
    "r2_xg = r2_score(y_test, y_pred_xg)\n",
    "print('MSE:\\n{}\\n\\nr2_score:\\n{}'.format(mse_xg, r2_xg))"
   ]
  },
  {
   "cell_type": "code",
   "execution_count": 6,
   "metadata": {},
   "outputs": [
    {
     "name": "stdout",
     "output_type": "stream",
     "text": [
      "MSE:\n",
      "39278.79394084307\n",
      "\n",
      "r2_score:\n",
      "0.7863446144852169\n"
     ]
    }
   ],
   "source": [
    "rf = RandomForestRegressor(random_state = 0)\n",
    "rf.fit(X_train, y_train)\n",
    "# df_imp_3 = pd.DataFrame(rf_3.feature_importances_, \n",
    "#             index = X_train.columns, columns = ['importance']).sort_values('importance', ascending=False)\n",
    "\n",
    "# Evaluation\n",
    "y_pred_rf = rf.predict(X_test)\n",
    "\n",
    "# Evaluation metrics\n",
    "mse_rf = mean_squared_error(y_test, y_pred_rf)\n",
    "r2_rf = r2_score(y_test, y_pred_rf)\n",
    "print('MSE:\\n{}\\n\\nr2_score:\\n{}'.format(mse_rf, r2_rf))"
   ]
  },
  {
   "cell_type": "code",
   "execution_count": 10,
   "metadata": {},
   "outputs": [
    {
     "name": "stdout",
     "output_type": "stream",
     "text": [
      "Number of categorical columns: 186\n",
      "Number of numerical columns: 41\n"
     ]
    }
   ],
   "source": [
    "categorical_clms = df.select_dtypes(include=['O']).columns\n",
    "print(\"Number of categorical columns: {}\".format(len(categorical_clms)))\n",
    "\n",
    "numerical_clms = df.select_dtypes(include=['int64', 'float64']).columns\n",
    "print(\"Number of numerical columns: {}\".format(len(numerical_clms)))\n",
    "\n",
    "df_cat = pd.DataFrame(df, columns=categorical_clms)\n",
    "df_num = pd.DataFrame(df, columns=numerical_clms)"
   ]
  },
  {
   "cell_type": "code",
   "execution_count": 14,
   "metadata": {},
   "outputs": [
    {
     "name": "stderr",
     "output_type": "stream",
     "text": [
      "Using TensorFlow backend.\n"
     ]
    }
   ],
   "source": [
    "from fancyimpute import KNN"
   ]
  },
  {
   "cell_type": "code",
   "execution_count": 18,
   "metadata": {},
   "outputs": [
    {
     "data": {
      "text/plain": [
       "array(['yrsqual', 'earnhr', 'v272', 'ictwork', 'planning', 'readhome',\n",
       "       'v207', 'v252', 'v242', 'influence', 'yrsget', 'row', 'v210',\n",
       "       'writwork', 'learnatwork', 'v136', 'v33', 'earnmth', 'nfehrsnjr',\n",
       "       'icthome', 'readwork', 'nfehrsjr', 'taskdisc', 'v239', 'isco1c',\n",
       "       'v105', 'writhome', 'readytolearn', 'v202', 'v104', 'v133',\n",
       "       'nfehrs', 'v206', 'v224', 'earnhrppp', 'v187', 'leavedu', 'v22',\n",
       "       'v154', 'v135', 'job_performance'], dtype=object)"
      ]
     },
     "execution_count": 18,
     "metadata": {},
     "output_type": "execute_result"
    }
   ],
   "source": [
    "df_num.columns.values"
   ]
  },
  {
   "cell_type": "code",
   "execution_count": 19,
   "metadata": {},
   "outputs": [],
   "source": [
    "df_org = pd.read_csv('client-trainingset-1561457457-252.csv')"
   ]
  },
  {
   "cell_type": "code",
   "execution_count": 22,
   "metadata": {},
   "outputs": [],
   "source": [
    "df_num_knn = df_org[numerical_clms]"
   ]
  },
  {
   "cell_type": "code",
   "execution_count": 26,
   "metadata": {},
   "outputs": [
    {
     "name": "stdout",
     "output_type": "stream",
     "text": [
      "Imputing row 1/20000 with 16 missing, elapsed time: 278.923\n",
      "Imputing row 101/20000 with 5 missing, elapsed time: 281.186\n",
      "Imputing row 201/20000 with 15 missing, elapsed time: 281.670\n",
      "Imputing row 301/20000 with 8 missing, elapsed time: 282.016\n",
      "Imputing row 401/20000 with 10 missing, elapsed time: 282.303\n",
      "Imputing row 501/20000 with 8 missing, elapsed time: 282.638\n",
      "Imputing row 601/20000 with 22 missing, elapsed time: 283.039\n",
      "Imputing row 701/20000 with 17 missing, elapsed time: 283.399\n",
      "Imputing row 801/20000 with 18 missing, elapsed time: 284.114\n",
      "Imputing row 901/20000 with 7 missing, elapsed time: 284.605\n",
      "Imputing row 1001/20000 with 15 missing, elapsed time: 284.984\n",
      "Imputing row 1101/20000 with 7 missing, elapsed time: 285.328\n",
      "Imputing row 1201/20000 with 22 missing, elapsed time: 285.795\n",
      "Imputing row 1301/20000 with 6 missing, elapsed time: 286.269\n",
      "Imputing row 1401/20000 with 5 missing, elapsed time: 286.795\n",
      "Imputing row 1501/20000 with 12 missing, elapsed time: 287.221\n",
      "Imputing row 1601/20000 with 20 missing, elapsed time: 288.119\n",
      "Imputing row 1701/20000 with 11 missing, elapsed time: 289.058\n",
      "Imputing row 1801/20000 with 21 missing, elapsed time: 297.129\n",
      "Imputing row 1901/20000 with 13 missing, elapsed time: 297.859\n",
      "Imputing row 2001/20000 with 16 missing, elapsed time: 298.423\n",
      "Imputing row 2101/20000 with 15 missing, elapsed time: 298.969\n",
      "Imputing row 2201/20000 with 21 missing, elapsed time: 299.448\n",
      "Imputing row 2301/20000 with 10 missing, elapsed time: 300.905\n",
      "Imputing row 2401/20000 with 7 missing, elapsed time: 301.248\n",
      "Imputing row 2501/20000 with 16 missing, elapsed time: 301.572\n",
      "Imputing row 2601/20000 with 17 missing, elapsed time: 301.927\n",
      "Imputing row 2701/20000 with 6 missing, elapsed time: 302.298\n",
      "Imputing row 2801/20000 with 7 missing, elapsed time: 302.915\n",
      "Imputing row 2901/20000 with 12 missing, elapsed time: 303.758\n",
      "Imputing row 3001/20000 with 16 missing, elapsed time: 304.372\n",
      "Imputing row 3101/20000 with 11 missing, elapsed time: 304.735\n",
      "Imputing row 3201/20000 with 13 missing, elapsed time: 305.067\n",
      "Imputing row 3301/20000 with 9 missing, elapsed time: 305.441\n",
      "Imputing row 3401/20000 with 12 missing, elapsed time: 305.813\n",
      "Imputing row 3501/20000 with 18 missing, elapsed time: 306.139\n",
      "Imputing row 3601/20000 with 24 missing, elapsed time: 306.511\n",
      "Imputing row 3701/20000 with 23 missing, elapsed time: 306.915\n",
      "Imputing row 3801/20000 with 5 missing, elapsed time: 307.348\n",
      "Imputing row 3901/20000 with 23 missing, elapsed time: 307.697\n",
      "Imputing row 4001/20000 with 12 missing, elapsed time: 308.020\n",
      "Imputing row 4101/20000 with 17 missing, elapsed time: 308.364\n",
      "Imputing row 4201/20000 with 6 missing, elapsed time: 308.738\n",
      "Imputing row 4301/20000 with 3 missing, elapsed time: 309.106\n",
      "Imputing row 4401/20000 with 18 missing, elapsed time: 309.420\n",
      "Imputing row 4501/20000 with 12 missing, elapsed time: 309.788\n",
      "Imputing row 4601/20000 with 18 missing, elapsed time: 310.115\n",
      "Imputing row 4701/20000 with 25 missing, elapsed time: 310.457\n",
      "Imputing row 4801/20000 with 4 missing, elapsed time: 310.816\n",
      "Imputing row 4901/20000 with 15 missing, elapsed time: 311.148\n",
      "Imputing row 5001/20000 with 14 missing, elapsed time: 311.471\n",
      "Imputing row 5101/20000 with 15 missing, elapsed time: 311.844\n",
      "Imputing row 5201/20000 with 26 missing, elapsed time: 312.178\n",
      "Imputing row 5301/20000 with 16 missing, elapsed time: 312.527\n",
      "Imputing row 5401/20000 with 13 missing, elapsed time: 312.929\n",
      "Imputing row 5501/20000 with 18 missing, elapsed time: 313.421\n",
      "Imputing row 5601/20000 with 21 missing, elapsed time: 313.787\n",
      "Imputing row 5701/20000 with 7 missing, elapsed time: 314.128\n",
      "Imputing row 5801/20000 with 11 missing, elapsed time: 314.492\n",
      "Imputing row 5901/20000 with 24 missing, elapsed time: 314.825\n",
      "Imputing row 6001/20000 with 5 missing, elapsed time: 315.193\n",
      "Imputing row 6101/20000 with 18 missing, elapsed time: 315.592\n",
      "Imputing row 6201/20000 with 6 missing, elapsed time: 315.976\n",
      "Imputing row 6301/20000 with 15 missing, elapsed time: 316.334\n",
      "Imputing row 6401/20000 with 19 missing, elapsed time: 316.849\n",
      "Imputing row 6501/20000 with 21 missing, elapsed time: 317.247\n",
      "Imputing row 6601/20000 with 11 missing, elapsed time: 317.622\n",
      "Imputing row 6701/20000 with 19 missing, elapsed time: 318.001\n",
      "Imputing row 6801/20000 with 15 missing, elapsed time: 318.641\n",
      "Imputing row 6901/20000 with 4 missing, elapsed time: 318.962\n",
      "Imputing row 7001/20000 with 6 missing, elapsed time: 319.453\n",
      "Imputing row 7101/20000 with 15 missing, elapsed time: 320.166\n",
      "Imputing row 7201/20000 with 5 missing, elapsed time: 320.864\n",
      "Imputing row 7301/20000 with 3 missing, elapsed time: 321.313\n",
      "Imputing row 7401/20000 with 14 missing, elapsed time: 321.785\n",
      "Imputing row 7501/20000 with 14 missing, elapsed time: 322.119\n",
      "Imputing row 7601/20000 with 18 missing, elapsed time: 322.576\n",
      "Imputing row 7701/20000 with 23 missing, elapsed time: 322.918\n",
      "Imputing row 7801/20000 with 7 missing, elapsed time: 323.263\n",
      "Imputing row 7901/20000 with 4 missing, elapsed time: 323.810\n",
      "Imputing row 8001/20000 with 17 missing, elapsed time: 324.130\n",
      "Imputing row 8101/20000 with 10 missing, elapsed time: 324.445\n",
      "Imputing row 8201/20000 with 18 missing, elapsed time: 324.821\n",
      "Imputing row 8301/20000 with 3 missing, elapsed time: 325.166\n",
      "Imputing row 8401/20000 with 10 missing, elapsed time: 325.477\n",
      "Imputing row 8501/20000 with 11 missing, elapsed time: 325.834\n",
      "Imputing row 8601/20000 with 6 missing, elapsed time: 326.195\n",
      "Imputing row 8701/20000 with 20 missing, elapsed time: 326.518\n",
      "Imputing row 8801/20000 with 22 missing, elapsed time: 326.918\n",
      "Imputing row 8901/20000 with 11 missing, elapsed time: 327.285\n",
      "Imputing row 9001/20000 with 14 missing, elapsed time: 327.780\n",
      "Imputing row 9101/20000 with 12 missing, elapsed time: 328.185\n",
      "Imputing row 9201/20000 with 6 missing, elapsed time: 328.750\n",
      "Imputing row 9301/20000 with 20 missing, elapsed time: 329.115\n",
      "Imputing row 9401/20000 with 5 missing, elapsed time: 329.510\n",
      "Imputing row 9501/20000 with 10 missing, elapsed time: 329.980\n",
      "Imputing row 9601/20000 with 12 missing, elapsed time: 330.412\n",
      "Imputing row 9701/20000 with 8 missing, elapsed time: 330.729\n",
      "Imputing row 9801/20000 with 17 missing, elapsed time: 331.069\n",
      "Imputing row 9901/20000 with 5 missing, elapsed time: 331.408\n",
      "Imputing row 10001/20000 with 21 missing, elapsed time: 331.799\n",
      "Imputing row 10101/20000 with 14 missing, elapsed time: 332.294\n",
      "Imputing row 10201/20000 with 16 missing, elapsed time: 332.683\n",
      "Imputing row 10301/20000 with 16 missing, elapsed time: 333.051\n",
      "Imputing row 10401/20000 with 13 missing, elapsed time: 333.477\n",
      "Imputing row 10501/20000 with 21 missing, elapsed time: 333.819\n",
      "Imputing row 10601/20000 with 9 missing, elapsed time: 334.303\n",
      "Imputing row 10701/20000 with 25 missing, elapsed time: 334.657\n",
      "Imputing row 10801/20000 with 19 missing, elapsed time: 335.003\n",
      "Imputing row 10901/20000 with 21 missing, elapsed time: 335.357\n",
      "Imputing row 11001/20000 with 21 missing, elapsed time: 335.728\n",
      "Imputing row 11101/20000 with 16 missing, elapsed time: 336.234\n",
      "Imputing row 11201/20000 with 13 missing, elapsed time: 336.720\n",
      "Imputing row 11301/20000 with 5 missing, elapsed time: 337.048\n",
      "Imputing row 11401/20000 with 12 missing, elapsed time: 337.421\n",
      "Imputing row 11501/20000 with 6 missing, elapsed time: 337.781\n",
      "Imputing row 11601/20000 with 7 missing, elapsed time: 338.170\n",
      "Imputing row 11701/20000 with 11 missing, elapsed time: 338.532\n",
      "Imputing row 11801/20000 with 23 missing, elapsed time: 339.022\n",
      "Imputing row 11901/20000 with 11 missing, elapsed time: 339.381\n",
      "Imputing row 12001/20000 with 15 missing, elapsed time: 339.747\n",
      "Imputing row 12101/20000 with 7 missing, elapsed time: 340.105\n",
      "Imputing row 12201/20000 with 12 missing, elapsed time: 340.521\n",
      "Imputing row 12301/20000 with 5 missing, elapsed time: 340.886\n",
      "Imputing row 12401/20000 with 13 missing, elapsed time: 341.237\n",
      "Imputing row 12501/20000 with 12 missing, elapsed time: 341.647\n",
      "Imputing row 12601/20000 with 13 missing, elapsed time: 342.020\n",
      "Imputing row 12701/20000 with 11 missing, elapsed time: 342.567\n",
      "Imputing row 12801/20000 with 18 missing, elapsed time: 342.975\n",
      "Imputing row 12901/20000 with 7 missing, elapsed time: 343.334\n",
      "Imputing row 13001/20000 with 4 missing, elapsed time: 343.728\n"
     ]
    },
    {
     "name": "stdout",
     "output_type": "stream",
     "text": [
      "Imputing row 13101/20000 with 16 missing, elapsed time: 344.059\n",
      "Imputing row 13201/20000 with 14 missing, elapsed time: 344.398\n",
      "Imputing row 13301/20000 with 9 missing, elapsed time: 344.791\n",
      "Imputing row 13401/20000 with 11 missing, elapsed time: 345.167\n",
      "Imputing row 13501/20000 with 21 missing, elapsed time: 345.483\n",
      "Imputing row 13601/20000 with 10 missing, elapsed time: 346.010\n",
      "Imputing row 13701/20000 with 4 missing, elapsed time: 346.369\n",
      "Imputing row 13801/20000 with 21 missing, elapsed time: 346.822\n",
      "Imputing row 13901/20000 with 11 missing, elapsed time: 347.314\n",
      "Imputing row 14001/20000 with 16 missing, elapsed time: 347.740\n",
      "Imputing row 14101/20000 with 14 missing, elapsed time: 348.763\n",
      "Imputing row 14201/20000 with 17 missing, elapsed time: 349.526\n",
      "Imputing row 14301/20000 with 25 missing, elapsed time: 349.901\n",
      "Imputing row 14401/20000 with 21 missing, elapsed time: 350.309\n",
      "Imputing row 14501/20000 with 15 missing, elapsed time: 350.724\n",
      "Imputing row 14601/20000 with 20 missing, elapsed time: 351.057\n",
      "Imputing row 14701/20000 with 17 missing, elapsed time: 351.396\n",
      "Imputing row 14801/20000 with 15 missing, elapsed time: 351.743\n",
      "Imputing row 14901/20000 with 21 missing, elapsed time: 352.112\n",
      "Imputing row 15001/20000 with 10 missing, elapsed time: 352.449\n",
      "Imputing row 15101/20000 with 20 missing, elapsed time: 352.827\n",
      "Imputing row 15201/20000 with 13 missing, elapsed time: 353.306\n",
      "Imputing row 15301/20000 with 16 missing, elapsed time: 353.707\n",
      "Imputing row 15401/20000 with 5 missing, elapsed time: 354.552\n",
      "Imputing row 15501/20000 with 18 missing, elapsed time: 355.345\n",
      "Imputing row 15601/20000 with 21 missing, elapsed time: 356.278\n",
      "Imputing row 15701/20000 with 8 missing, elapsed time: 362.171\n",
      "Imputing row 15801/20000 with 10 missing, elapsed time: 363.783\n",
      "Imputing row 15901/20000 with 17 missing, elapsed time: 365.026\n",
      "Imputing row 16001/20000 with 20 missing, elapsed time: 366.254\n",
      "Imputing row 16101/20000 with 4 missing, elapsed time: 367.367\n",
      "Imputing row 16201/20000 with 9 missing, elapsed time: 368.369\n",
      "Imputing row 16301/20000 with 7 missing, elapsed time: 369.259\n",
      "Imputing row 16401/20000 with 12 missing, elapsed time: 370.197\n",
      "Imputing row 16501/20000 with 20 missing, elapsed time: 371.019\n",
      "Imputing row 16601/20000 with 11 missing, elapsed time: 371.388\n",
      "Imputing row 16701/20000 with 21 missing, elapsed time: 372.004\n",
      "Imputing row 16801/20000 with 4 missing, elapsed time: 372.376\n",
      "Imputing row 16901/20000 with 21 missing, elapsed time: 372.718\n",
      "Imputing row 17001/20000 with 7 missing, elapsed time: 373.070\n",
      "Imputing row 17101/20000 with 2 missing, elapsed time: 373.437\n",
      "Imputing row 17201/20000 with 7 missing, elapsed time: 373.773\n",
      "Imputing row 17301/20000 with 5 missing, elapsed time: 374.364\n",
      "Imputing row 17401/20000 with 12 missing, elapsed time: 374.762\n",
      "Imputing row 17501/20000 with 12 missing, elapsed time: 375.128\n",
      "Imputing row 17601/20000 with 5 missing, elapsed time: 375.503\n",
      "Imputing row 17701/20000 with 16 missing, elapsed time: 375.877\n",
      "Imputing row 17801/20000 with 23 missing, elapsed time: 376.209\n",
      "Imputing row 17901/20000 with 15 missing, elapsed time: 376.590\n",
      "Imputing row 18001/20000 with 5 missing, elapsed time: 376.950\n",
      "Imputing row 18101/20000 with 19 missing, elapsed time: 377.297\n",
      "Imputing row 18201/20000 with 16 missing, elapsed time: 377.695\n",
      "Imputing row 18301/20000 with 7 missing, elapsed time: 378.078\n",
      "Imputing row 18401/20000 with 13 missing, elapsed time: 378.604\n",
      "Imputing row 18501/20000 with 7 missing, elapsed time: 378.983\n",
      "Imputing row 18601/20000 with 12 missing, elapsed time: 379.330\n",
      "Imputing row 18701/20000 with 19 missing, elapsed time: 379.661\n",
      "Imputing row 18801/20000 with 7 missing, elapsed time: 380.007\n",
      "Imputing row 18901/20000 with 8 missing, elapsed time: 380.382\n",
      "Imputing row 19001/20000 with 5 missing, elapsed time: 380.723\n",
      "Imputing row 19101/20000 with 24 missing, elapsed time: 381.094\n",
      "Imputing row 19201/20000 with 21 missing, elapsed time: 381.465\n",
      "Imputing row 19301/20000 with 9 missing, elapsed time: 381.842\n",
      "Imputing row 19401/20000 with 15 missing, elapsed time: 382.314\n",
      "Imputing row 19501/20000 with 6 missing, elapsed time: 382.673\n",
      "Imputing row 19601/20000 with 5 missing, elapsed time: 383.036\n",
      "Imputing row 19701/20000 with 16 missing, elapsed time: 383.400\n",
      "Imputing row 19801/20000 with 5 missing, elapsed time: 383.753\n",
      "Imputing row 19901/20000 with 16 missing, elapsed time: 384.215\n"
     ]
    }
   ],
   "source": [
    "df_num_knn_filled = KNN(k=3).fit_transform(df_num_knn)"
   ]
  },
  {
   "cell_type": "code",
   "execution_count": 28,
   "metadata": {},
   "outputs": [],
   "source": [
    "df_numeric = pd.DataFrame(df_num_knn_filled, columns=['yrsqual', 'earnhr', 'v272', 'ictwork', 'planning', 'readhome',\n",
    "       'v207', 'v252', 'v242', 'influence', 'yrsget', 'row', 'v210',\n",
    "       'writwork', 'learnatwork', 'v136', 'v33', 'earnmth', 'nfehrsnjr',\n",
    "       'icthome', 'readwork', 'nfehrsjr', 'taskdisc', 'v239', 'isco1c',\n",
    "       'v105', 'writhome', 'readytolearn', 'v202', 'v104', 'v133',\n",
    "       'nfehrs', 'v206', 'v224', 'earnhrppp', 'v187', 'leavedu', 'v22',\n",
    "       'v154', 'v135', 'job_performance'])"
   ]
  },
  {
   "cell_type": "code",
   "execution_count": 31,
   "metadata": {},
   "outputs": [
    {
     "data": {
      "text/plain": [
       "0"
      ]
     },
     "execution_count": 31,
     "metadata": {},
     "output_type": "execute_result"
    }
   ],
   "source": [
    "df_numeric.isnull().sum().sum()"
   ]
  },
  {
   "cell_type": "code",
   "execution_count": 32,
   "metadata": {},
   "outputs": [],
   "source": [
    "df3 = pd.concat([df_cat, df_numeric], axis=1, sort=False)"
   ]
  },
  {
   "cell_type": "code",
   "execution_count": 33,
   "metadata": {},
   "outputs": [
    {
     "data": {
      "text/plain": [
       "(20000, 227)"
      ]
     },
     "execution_count": 33,
     "metadata": {},
     "output_type": "execute_result"
    }
   ],
   "source": [
    "df3.shape"
   ]
  },
  {
   "cell_type": "code",
   "execution_count": 34,
   "metadata": {},
   "outputs": [
    {
     "name": "stdout",
     "output_type": "stream",
     "text": [
      "MSE:\n",
      "40589.36465662736\n",
      "\n",
      "r2_score:\n",
      "0.7863446144852169\n"
     ]
    }
   ],
   "source": [
    "df4 = pd.get_dummies(df3, prefix_sep='_', drop_first=True)\n",
    "\n",
    "X_2 = df4.drop(['job_performance'], axis=1)\n",
    "y_2 = df4['job_performance']\n",
    "\n",
    "X_train_2, X_test_2, y_train_2, y_test_2 = train_test_split(X_2, y_2, test_size=0.3, random_state=0)\n",
    "\n",
    "rf_2 = RandomForestRegressor(random_state = 0)\n",
    "rf_2.fit(X_train_2, y_train_2)\n",
    "# df_imp_3 = pd.DataFrame(rf_3.feature_importances_, \n",
    "#             index = X_train.columns, columns = ['importance']).sort_values('importance', ascending=False)\n",
    "\n",
    "# Evaluation\n",
    "y_pred_rf_2 = rf_2.predict(X_test_2)\n",
    "\n",
    "# Evaluation metrics\n",
    "mse_rf_2 = mean_squared_error(y_test_2, y_pred_rf_2)\n",
    "r2_rf_2 = r2_score(y_test, y_pred_rf)\n",
    "print('MSE:\\n{}\\n\\nr2_score:\\n{}'.format(mse_rf_2, r2_rf_2))"
   ]
  },
  {
   "cell_type": "code",
   "execution_count": 1,
   "metadata": {},
   "outputs": [
    {
     "name": "stderr",
     "output_type": "stream",
     "text": [
      "/Users/hy/anaconda3/lib/python3.7/site-packages/sklearn/externals/six.py:31: DeprecationWarning: The module is deprecated in version 0.21 and will be removed in version 0.23 since we've dropped support for Python 2.7. Please rely on the official version of six (https://pypi.org/project/six/).\n",
      "  \"(https://pypi.org/project/six/).\", DeprecationWarning)\n"
     ]
    }
   ],
   "source": [
    "from auto_ml import Predictor"
   ]
  },
  {
   "cell_type": "code",
   "execution_count": 2,
   "metadata": {},
   "outputs": [],
   "source": [
    "from tpot import TPOTRegressor"
   ]
  },
  {
   "cell_type": "code",
   "execution_count": null,
   "metadata": {},
   "outputs": [
    {
     "data": {
      "application/vnd.jupyter.widget-view+json": {
       "model_id": "ea46ea399e9043edbb57e48a1016aade",
       "version_major": 2,
       "version_minor": 0
      },
      "text/plain": [
       "HBox(children=(IntProgress(value=0, description='Optimization Progress', max=300, style=ProgressStyle(descript…"
      ]
     },
     "metadata": {},
     "output_type": "display_data"
    }
   ],
   "source": [
    "tpot = TPOTRegressor(generations=5, population_size=50, verbosity=2)\n",
    "tpot.fit(X_train, y_train)\n",
    "\n",
    "y_pred_tp = tpot.predict(X_test)\n",
    "\n",
    "mse_tp = mean_squared_error(y_test, y_pred_tp)\n",
    "r2_tp = r2_score(y_test, y_pred_tp)\n",
    "print('MSE:\\n{}\\n\\nr2_score:\\n{}'.format(mse_tp, r2_tp))"
   ]
  },
  {
   "cell_type": "code",
   "execution_count": null,
   "metadata": {},
   "outputs": [],
   "source": []
  }
 ],
 "metadata": {
  "kernelspec": {
   "display_name": "Python 3",
   "language": "python",
   "name": "python3"
  },
  "language_info": {
   "codemirror_mode": {
    "name": "ipython",
    "version": 3
   },
   "file_extension": ".py",
   "mimetype": "text/x-python",
   "name": "python",
   "nbconvert_exporter": "python",
   "pygments_lexer": "ipython3",
   "version": "3.7.3"
  }
 },
 "nbformat": 4,
 "nbformat_minor": 2
}
