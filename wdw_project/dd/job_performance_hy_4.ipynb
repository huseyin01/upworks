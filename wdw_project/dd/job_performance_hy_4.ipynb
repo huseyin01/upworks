{
 "cells": [
  {
   "cell_type": "code",
   "execution_count": 6,
   "metadata": {},
   "outputs": [
    {
     "name": "stderr",
     "output_type": "stream",
     "text": [
      "Using TensorFlow backend.\n"
     ]
    }
   ],
   "source": [
    "import pandas as pd\n",
    "import numpy as np\n",
    "import pandas_profiling\n",
    "import re\n",
    "\n",
    "import matplotlib.pyplot as plt\n",
    "import seaborn as sns\n",
    "\n",
    "from fancyimpute import KNN\n",
    "from sklearn.metrics import mean_squared_error, r2_score\n",
    "from sklearn.model_selection import train_test_split, GridSearchCV, RandomizedSearchCV, cross_val_score\n",
    "from sklearn.dummy import DummyRegressor\n",
    "from sklearn.linear_model import LinearRegression\n",
    "from sklearn.ensemble import RandomForestRegressor\n",
    "import xgboost as xgb\n",
    "from tpot import TPOTRegressor\n",
    "from auto_ml import Predictor\n",
    "\n",
    "import warnings\n",
    "warnings.filterwarnings('ignore')"
   ]
  },
  {
   "cell_type": "code",
   "execution_count": 2,
   "metadata": {},
   "outputs": [
    {
     "data": {
      "text/html": [
       "<div>\n",
       "<style scoped>\n",
       "    .dataframe tbody tr th:only-of-type {\n",
       "        vertical-align: middle;\n",
       "    }\n",
       "\n",
       "    .dataframe tbody tr th {\n",
       "        vertical-align: top;\n",
       "    }\n",
       "\n",
       "    .dataframe thead th {\n",
       "        text-align: right;\n",
       "    }\n",
       "</style>\n",
       "<table border=\"1\" class=\"dataframe\">\n",
       "  <thead>\n",
       "    <tr style=\"text-align: right;\">\n",
       "      <th></th>\n",
       "      <th>cntryid</th>\n",
       "      <th>cntryid_e</th>\n",
       "      <th>age_r</th>\n",
       "      <th>gender_r</th>\n",
       "      <th>computerexperience</th>\n",
       "      <th>nativespeaker</th>\n",
       "      <th>edlevel3</th>\n",
       "      <th>monthlyincpr</th>\n",
       "      <th>yearlyincpr</th>\n",
       "      <th>lng_home</th>\n",
       "      <th>...</th>\n",
       "      <th>v85</th>\n",
       "      <th>v50</th>\n",
       "      <th>v89</th>\n",
       "      <th>v127</th>\n",
       "      <th>v239</th>\n",
       "      <th>v224</th>\n",
       "      <th>v71</th>\n",
       "      <th>v105</th>\n",
       "      <th>row</th>\n",
       "      <th>timestamp</th>\n",
       "    </tr>\n",
       "  </thead>\n",
       "  <tbody>\n",
       "    <tr>\n",
       "      <th>0</th>\n",
       "      <td>Greece</td>\n",
       "      <td>Greece</td>\n",
       "      <td>50.0</td>\n",
       "      <td>Male</td>\n",
       "      <td>Yes</td>\n",
       "      <td>Yes</td>\n",
       "      <td>High</td>\n",
       "      <td>75 to less than 90</td>\n",
       "      <td>NaN</td>\n",
       "      <td>ell</td>\n",
       "      <td>...</td>\n",
       "      <td>Strongly agree</td>\n",
       "      <td>Strongly agree</td>\n",
       "      <td>NaN</td>\n",
       "      <td>NaN</td>\n",
       "      <td>2359.0</td>\n",
       "      <td>9996.0</td>\n",
       "      <td>8549</td>\n",
       "      <td>9996.0</td>\n",
       "      <td>58807</td>\n",
       "      <td>1561457457-252</td>\n",
       "    </tr>\n",
       "    <tr>\n",
       "      <th>1</th>\n",
       "      <td>Japan</td>\n",
       "      <td>Japan</td>\n",
       "      <td>47.0</td>\n",
       "      <td>Male</td>\n",
       "      <td>Yes</td>\n",
       "      <td>Yes</td>\n",
       "      <td>High</td>\n",
       "      <td>90 or more</td>\n",
       "      <td>90 or more</td>\n",
       "      <td>jpn</td>\n",
       "      <td>...</td>\n",
       "      <td>Neither agree nor disagree</td>\n",
       "      <td>Neither agree nor disagree</td>\n",
       "      <td>NaN</td>\n",
       "      <td>NaN</td>\n",
       "      <td>2522.0</td>\n",
       "      <td>9996.0</td>\n",
       "      <td>6202</td>\n",
       "      <td>9996.0</td>\n",
       "      <td>168058</td>\n",
       "      <td>1561457457-252</td>\n",
       "    </tr>\n",
       "  </tbody>\n",
       "</table>\n",
       "<p>2 rows × 380 columns</p>\n",
       "</div>"
      ],
      "text/plain": [
       "  cntryid cntryid_e  age_r gender_r computerexperience nativespeaker edlevel3  \\\n",
       "0  Greece    Greece   50.0     Male                Yes           Yes     High   \n",
       "1   Japan     Japan   47.0     Male                Yes           Yes     High   \n",
       "\n",
       "         monthlyincpr yearlyincpr lng_home  ...                         v85  \\\n",
       "0  75 to less than 90         NaN      ell  ...              Strongly agree   \n",
       "1          90 or more  90 or more      jpn  ...  Neither agree nor disagree   \n",
       "\n",
       "                          v50  v89 v127    v239    v224   v71    v105     row  \\\n",
       "0              Strongly agree  NaN  NaN  2359.0  9996.0  8549  9996.0   58807   \n",
       "1  Neither agree nor disagree  NaN  NaN  2522.0  9996.0  6202  9996.0  168058   \n",
       "\n",
       "        timestamp  \n",
       "0  1561457457-252  \n",
       "1  1561457457-252  \n",
       "\n",
       "[2 rows x 380 columns]"
      ]
     },
     "execution_count": 2,
     "metadata": {},
     "output_type": "execute_result"
    }
   ],
   "source": [
    "df = pd.read_csv('client-trainingset-1561457457-252.csv')\n",
    "df.head(2)"
   ]
  },
  {
   "cell_type": "code",
   "execution_count": 3,
   "metadata": {},
   "outputs": [
    {
     "name": "stdout",
     "output_type": "stream",
     "text": [
      "<class 'pandas.core.frame.DataFrame'>\n",
      "RangeIndex: 20000 entries, 0 to 19999\n",
      "Columns: 337 entries, gender_r to row\n",
      "dtypes: float64(52), int64(4), object(281)\n",
      "memory usage: 51.4+ MB\n"
     ]
    }
   ],
   "source": [
    "# detected via dataprofiling\n",
    "correlated_list_1 = ['earnhrbonus', 'earnhrbonusppp', 'earnmthall', 'earnmthallppp', 'earnmthbonus',\n",
    "                     'earnmthbonusppp', 'earnmthppp', 'isco2l', 'v1', 'v100', 'v110', 'v145', 'v156',\n",
    "                    'v160', 'v163', 'v169', 'v231', 'v235', 'v283', 'v41', 'v45', 'v52', 'v63', 'v81',\n",
    "                     'v87', 'v97', 'yrsqual_t']\n",
    "\n",
    "constant_list_1 = ['timestamp', 'v262']\n",
    "\n",
    "unsupported_list_1 = ['v71', 'isic2l']\n",
    "\n",
    "# detected via Comparing information and statistical summary results\n",
    "correlated_list_2 = ['age_r', 'edcat7', 'edcat8', 'cnt_brth', 'cnt_h', 'cntryid', 'cntryid_e', 'birthrgn',\n",
    "                     'ctryqual', 'earnhrdcl', 'earnhrbonusdcl', 'nativelang']\n",
    "\n",
    "# concatenating four lists to drop\n",
    "drop_list = correlated_list_1 + constant_list_1 + unsupported_list_1 + correlated_list_2\n",
    "\n",
    "# creating a new dataframe in order to keep original one just in case\n",
    "df2 = df.copy()\n",
    "\n",
    "# dropping 43 variables from originial set\n",
    "df2 = df2.drop(columns = drop_list, axis=1)\n",
    "\n",
    "# checking summary info\n",
    "df2.info()"
   ]
  },
  {
   "cell_type": "code",
   "execution_count": 4,
   "metadata": {},
   "outputs": [
    {
     "name": "stdout",
     "output_type": "stream",
     "text": [
      "Number of categorical columns: 281\n",
      "Number of numerical columns: 56\n"
     ]
    }
   ],
   "source": [
    "# creating 2 diffrent dataframes as numerical and categorical\n",
    "\n",
    "categorical_clms = df2.select_dtypes(include=['O']).columns\n",
    "print(\"Number of categorical columns: {}\".format(len(categorical_clms)))\n",
    "\n",
    "numerical_clms = df2.select_dtypes(include=['int64', 'float64']).columns\n",
    "print(\"Number of numerical columns: {}\".format(len(numerical_clms)))\n",
    "\n",
    "df_cat = pd.DataFrame(df2, columns=categorical_clms)\n",
    "df_num = pd.DataFrame(df2, columns=numerical_clms)"
   ]
  },
  {
   "cell_type": "code",
   "execution_count": 5,
   "metadata": {},
   "outputs": [],
   "source": [
    "#dropping target variable\n",
    "df_num2 = df_num.drop('job_performance', axis=1)\n",
    "\n",
    "# replacing outliers with median\n",
    "for feature in df_num2.keys():\n",
    "    step=1.5*((np.percentile(df_num2[feature], q=75))-(np.percentile(df_num2[feature], q=25)))\n",
    "    lower_bound=(np.percentile(df_num2[feature], q=25))-step\n",
    "    upper_bound=(np.percentile(df_num2[feature], q=75))+step\n",
    "    median = round(df_num2[feature].median())\n",
    "    df_num2[feature][df_num2[feature]<lower_bound] = median\n",
    "    df_num2[feature][df_num2[feature]>upper_bound] = median"
   ]
  },
  {
   "cell_type": "code",
   "execution_count": 9,
   "metadata": {},
   "outputs": [
    {
     "data": {
      "text/plain": [
       "array(['yrsqual', 'yrsget', 'imyrs', 'leavedu', 'nfehrsnjr', 'nfehrsjr',\n",
       "       'nfehrs', 'isco1c', 'isco2c', 'isco1l', 'earnhr', 'earnhrppp',\n",
       "       'earnmth', 'earnmthselfppp', 'learnatwork', 'readytolearn',\n",
       "       'icthome', 'ictwork', 'influence', 'planning', 'readhome',\n",
       "       'readwork', 'taskdisc', 'writhome', 'writwork', 'v202', 'v272',\n",
       "       'v78', 'v196', 'v61', 'v129', 'v268', 'v252', 'v206', 'v207',\n",
       "       'v133', 'v136', 'v187', 'v194', 'v154', 'v33', 'v242', 'v184',\n",
       "       'v104', 'v22', 'v241', 'v135', 'v210', 'v113', 'v130', 'v215',\n",
       "       'v239', 'v224', 'v105', 'row'], dtype=object)"
      ]
     },
     "execution_count": 9,
     "metadata": {},
     "output_type": "execute_result"
    }
   ],
   "source": [
    "df_num2.columns.values"
   ]
  },
  {
   "cell_type": "code",
   "execution_count": null,
   "metadata": {},
   "outputs": [],
   "source": [
    "df_num_knn = df_num2.copy\n",
    "\n",
    "df_num_knn = KNN(k=3).fit_transform(df_num_knn)"
   ]
  }
 ],
 "metadata": {
  "kernelspec": {
   "display_name": "Python 3",
   "language": "python",
   "name": "python3"
  },
  "language_info": {
   "codemirror_mode": {
    "name": "ipython",
    "version": 3
   },
   "file_extension": ".py",
   "mimetype": "text/x-python",
   "name": "python",
   "nbconvert_exporter": "python",
   "pygments_lexer": "ipython3",
   "version": "3.7.3"
  }
 },
 "nbformat": 4,
 "nbformat_minor": 2
}
